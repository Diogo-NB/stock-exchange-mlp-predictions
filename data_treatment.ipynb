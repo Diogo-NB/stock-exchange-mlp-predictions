{
 "cells": [
  {
   "cell_type": "markdown",
   "metadata": {},
   "source": [
    "# **Tratamento de Dados das Ações**\n",
    "\n",
    "- Diogo Nunes Batista\n",
    "- Rafael de Oliveira Évora\n",
    "- Vinicius Gabriel \n",
    "\n",
    "### Carregamento dos dados"
   ]
  },
  {
   "cell_type": "code",
   "execution_count": 5,
   "metadata": {},
   "outputs": [
    {
     "data": {
      "text/plain": [
       "(            ABERTURA  FECHAMENTO  VARIAÇÃO  MÍNIMO  MÁXIMO   VOLUME\n",
       " DATA                                                               \n",
       " 25/10/2024     44.66       41.35     -6.49   41.32   44.95   99,31M\n",
       " 24/10/2024     47.91       44.22     -7.32   44.22   48.45  126,76M\n",
       " 23/10/2024     42.80       47.71     12.29   42.68   48.15  153,65M\n",
       " 22/10/2024     42.45       42.49      0.07   41.59   42.53   25,37M\n",
       " 21/10/2024     41.86       42.46      1.94   41.61   42.56   28,14M\n",
       " ...              ...         ...       ...     ...     ...      ...\n",
       " 02/05/2024     43.37       43.75      2.99   43.19   44.78   90,85M\n",
       " 30/04/2024     42.98       42.48     -1.26   42.29   43.78   65,25M\n",
       " 29/04/2024     42.15       43.02      1.58   41.53   43.27   39,72M\n",
       " 26/04/2024     41.53       42.35      2.69   41.25   42.76   54,96M\n",
       " 25/04/2024     40.80       41.24      1.18   40.30   41.40   44,64M\n",
       " \n",
       " [129 rows x 6 columns],\n",
       "                valor\n",
       " data                \n",
       " 03/01/2022  0.034749\n",
       " 04/01/2022  0.034749\n",
       " 05/01/2022  0.034749\n",
       " 06/01/2022  0.034749\n",
       " 07/01/2022  0.034749\n",
       " ...              ...\n",
       " 08/11/2024  0.041957\n",
       " 11/11/2024  0.041957\n",
       " 12/11/2024  0.041957\n",
       " 13/11/2024  0.041957\n",
       " 14/11/2024  0.041957\n",
       " \n",
       " [723 rows x 1 columns])"
      ]
     },
     "execution_count": 5,
     "metadata": {},
     "output_type": "execute_result"
    }
   ],
   "source": [
    "import pandas\n",
    "import numpy as np\n",
    "\n",
    "df_stocks_types = {\n",
    "    'ABERTURA': np.float64,\n",
    "    'FECHAMENTO': np.float64,\n",
    "    'VARIAÇÃO': np.float64,\n",
    "    'MÍNIMO': np.float64,\n",
    "    'MÁXIMO': np.float64,\n",
    "    'VOLUME': str\n",
    "}\n",
    "\n",
    "df_selic_types = {\n",
    "    'valor': np.float64,\n",
    "}\n",
    "\n",
    "STOCK_NAME = 'IRBR3'\n",
    "\n",
    "df_stocks = pandas.read_csv(f'data/raw/{STOCK_NAME}.csv', index_col=\"DATA\" , dtype=df_stocks_types, decimal=',')\n",
    "\n",
    "df_selic = pandas.read_csv('data/raw/selic.csv', sep=';', index_col=\"data\",  dtype=df_selic_types , decimal=',')\n",
    "\n",
    "df_stocks, df_selic"
   ]
  },
  {
   "cell_type": "markdown",
   "metadata": {},
   "source": [
    "### Tratamento dos dados"
   ]
  },
  {
   "cell_type": "code",
   "execution_count": 6,
   "metadata": {},
   "outputs": [
    {
     "data": {
      "text/html": [
       "<div>\n",
       "<style scoped>\n",
       "    .dataframe tbody tr th:only-of-type {\n",
       "        vertical-align: middle;\n",
       "    }\n",
       "\n",
       "    .dataframe tbody tr th {\n",
       "        vertical-align: top;\n",
       "    }\n",
       "\n",
       "    .dataframe thead th {\n",
       "        text-align: right;\n",
       "    }\n",
       "</style>\n",
       "<table border=\"1\" class=\"dataframe\">\n",
       "  <thead>\n",
       "    <tr style=\"text-align: right;\">\n",
       "      <th></th>\n",
       "      <th>ABERTURA</th>\n",
       "      <th>FECHAMENTO</th>\n",
       "      <th>VARIAÇÃO</th>\n",
       "      <th>MÍNIMO</th>\n",
       "      <th>MÁXIMO</th>\n",
       "      <th>VOLUME</th>\n",
       "      <th>SELIC</th>\n",
       "    </tr>\n",
       "  </thead>\n",
       "  <tbody>\n",
       "    <tr>\n",
       "      <th>25/04/2024</th>\n",
       "      <td>40.80</td>\n",
       "      <td>41.24</td>\n",
       "      <td>1.18</td>\n",
       "      <td>40.30</td>\n",
       "      <td>41.40</td>\n",
       "      <td>44.64</td>\n",
       "      <td>0.040168</td>\n",
       "    </tr>\n",
       "    <tr>\n",
       "      <th>26/04/2024</th>\n",
       "      <td>41.53</td>\n",
       "      <td>42.35</td>\n",
       "      <td>2.69</td>\n",
       "      <td>41.25</td>\n",
       "      <td>42.76</td>\n",
       "      <td>54.96</td>\n",
       "      <td>0.040168</td>\n",
       "    </tr>\n",
       "    <tr>\n",
       "      <th>29/04/2024</th>\n",
       "      <td>42.15</td>\n",
       "      <td>43.02</td>\n",
       "      <td>1.58</td>\n",
       "      <td>41.53</td>\n",
       "      <td>43.27</td>\n",
       "      <td>39.72</td>\n",
       "      <td>0.040168</td>\n",
       "    </tr>\n",
       "    <tr>\n",
       "      <th>30/04/2024</th>\n",
       "      <td>42.98</td>\n",
       "      <td>42.48</td>\n",
       "      <td>-1.26</td>\n",
       "      <td>42.29</td>\n",
       "      <td>43.78</td>\n",
       "      <td>65.25</td>\n",
       "      <td>0.040168</td>\n",
       "    </tr>\n",
       "    <tr>\n",
       "      <th>02/05/2024</th>\n",
       "      <td>43.37</td>\n",
       "      <td>43.75</td>\n",
       "      <td>2.99</td>\n",
       "      <td>43.19</td>\n",
       "      <td>44.78</td>\n",
       "      <td>90.85</td>\n",
       "      <td>0.040168</td>\n",
       "    </tr>\n",
       "    <tr>\n",
       "      <th>...</th>\n",
       "      <td>...</td>\n",
       "      <td>...</td>\n",
       "      <td>...</td>\n",
       "      <td>...</td>\n",
       "      <td>...</td>\n",
       "      <td>...</td>\n",
       "      <td>...</td>\n",
       "    </tr>\n",
       "    <tr>\n",
       "      <th>21/10/2024</th>\n",
       "      <td>41.86</td>\n",
       "      <td>42.46</td>\n",
       "      <td>1.94</td>\n",
       "      <td>41.61</td>\n",
       "      <td>42.56</td>\n",
       "      <td>28.14</td>\n",
       "      <td>0.040168</td>\n",
       "    </tr>\n",
       "    <tr>\n",
       "      <th>22/10/2024</th>\n",
       "      <td>42.45</td>\n",
       "      <td>42.49</td>\n",
       "      <td>0.07</td>\n",
       "      <td>41.59</td>\n",
       "      <td>42.53</td>\n",
       "      <td>25.37</td>\n",
       "      <td>0.040168</td>\n",
       "    </tr>\n",
       "    <tr>\n",
       "      <th>23/10/2024</th>\n",
       "      <td>42.80</td>\n",
       "      <td>47.71</td>\n",
       "      <td>12.29</td>\n",
       "      <td>42.68</td>\n",
       "      <td>48.15</td>\n",
       "      <td>153.65</td>\n",
       "      <td>0.040168</td>\n",
       "    </tr>\n",
       "    <tr>\n",
       "      <th>24/10/2024</th>\n",
       "      <td>47.91</td>\n",
       "      <td>44.22</td>\n",
       "      <td>-7.32</td>\n",
       "      <td>44.22</td>\n",
       "      <td>48.45</td>\n",
       "      <td>126.76</td>\n",
       "      <td>0.040168</td>\n",
       "    </tr>\n",
       "    <tr>\n",
       "      <th>25/10/2024</th>\n",
       "      <td>44.66</td>\n",
       "      <td>41.35</td>\n",
       "      <td>-6.49</td>\n",
       "      <td>41.32</td>\n",
       "      <td>44.95</td>\n",
       "      <td>99.31</td>\n",
       "      <td>0.040168</td>\n",
       "    </tr>\n",
       "  </tbody>\n",
       "</table>\n",
       "<p>129 rows × 7 columns</p>\n",
       "</div>"
      ],
      "text/plain": [
       "            ABERTURA  FECHAMENTO  VARIAÇÃO  MÍNIMO  MÁXIMO  VOLUME     SELIC\n",
       "25/04/2024     40.80       41.24      1.18   40.30   41.40   44.64  0.040168\n",
       "26/04/2024     41.53       42.35      2.69   41.25   42.76   54.96  0.040168\n",
       "29/04/2024     42.15       43.02      1.58   41.53   43.27   39.72  0.040168\n",
       "30/04/2024     42.98       42.48     -1.26   42.29   43.78   65.25  0.040168\n",
       "02/05/2024     43.37       43.75      2.99   43.19   44.78   90.85  0.040168\n",
       "...              ...         ...       ...     ...     ...     ...       ...\n",
       "21/10/2024     41.86       42.46      1.94   41.61   42.56   28.14  0.040168\n",
       "22/10/2024     42.45       42.49      0.07   41.59   42.53   25.37  0.040168\n",
       "23/10/2024     42.80       47.71     12.29   42.68   48.15  153.65  0.040168\n",
       "24/10/2024     47.91       44.22     -7.32   44.22   48.45  126.76  0.040168\n",
       "25/10/2024     44.66       41.35     -6.49   41.32   44.95   99.31  0.040168\n",
       "\n",
       "[129 rows x 7 columns]"
      ]
     },
     "execution_count": 6,
     "metadata": {},
     "output_type": "execute_result"
    }
   ],
   "source": [
    "df_selic.rename(columns={'valor': 'SELIC'}, inplace=True)\n",
    "df_selic['SELIC'] = df_selic['SELIC']\n",
    "\n",
    "df_stocks['VOLUME'] = df_stocks['VOLUME'].str.replace('M', '').str.replace(',', '.').astype(np.float64) # Remove 'M' e subtitui ',' por '.' o que possibilita a conversão para float\n",
    "\n",
    "df = df_stocks.join(df_selic, how='inner') # https://pandas.pydata.org/docs/reference/api/pandas.DataFrame.join.html\n",
    "\n",
    "df = df.iloc[::-1]\n",
    "\n",
    "df"
   ]
  },
  {
   "cell_type": "markdown",
   "metadata": {},
   "source": [
    "### Plotando"
   ]
  },
  {
   "cell_type": "code",
   "execution_count": 7,
   "metadata": {},
   "outputs": [
    {
     "name": "stderr",
     "output_type": "stream",
     "text": [
      "C:\\Users\\Diogo\\AppData\\Local\\Temp\\ipykernel_12500\\2736737018.py:2: UserWarning: FigureCanvasAgg is non-interactive, and thus cannot be shown\n",
      "  ax.get_figure().show()\n"
     ]
    },
    {
     "data": {
      "image/png": "[encoded data removed]",
      "text/plain": [
       "<Figure size 640x480 with 1 Axes>"
      ]
     },
     "metadata": {},
     "output_type": "display_data"
    }
   ],
   "source": [
    "ax = df.plot(y='FECHAMENTO', xlabel='Data', ylabel='Valor', fontsize=8)\n",
    "ax.get_figure().show()"
   ]
  },
  {
   "cell_type": "markdown",
   "metadata": {},
   "source": [
    "### Normalização"
   ]
  },
  {
   "cell_type": "code",
   "execution_count": 8,
   "metadata": {},
   "outputs": [],
   "source": [
    "df[['ABERTURA', 'FECHAMENTO', 'MÍNIMO', 'MÁXIMO']] = df[['ABERTURA', 'FECHAMENTO', 'MÍNIMO', 'MÁXIMO']].div(100.0)\n",
    "df['VOLUME'] = df['VOLUME'].div(1000.0)\n",
    "df['VARIAÇÃO'] = df['VARIAÇÃO'].add(100.0).div(1000.0)\n",
    "\n",
    "df.to_csv(f'data/final/{STOCK_NAME}.csv', index_label='DATA', sep=';', decimal='.')"
   ]
  }
 ],
 "metadata": {
  "kernelspec": {
   "display_name": "Python 3",
   "language": "python",
   "name": "python3"
  },
  "language_info": {
   "codemirror_mode": {
    "name": "ipython",
    "version": 3
   },
   "file_extension": ".py",
   "mimetype": "text/x-python",
   "name": "python",
   "nbconvert_exporter": "python",
   "pygments_lexer": "ipython3",
   "version": "3.12.3"
  }
 },
 "nbformat": 4,
 "nbformat_minor": 2
}
