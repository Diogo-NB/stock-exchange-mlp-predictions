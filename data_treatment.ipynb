{
 "cells": [
  {
   "cell_type": "markdown",
   "metadata": {},
   "source": [
    "# **Tratamento de Dados das Ações**\n",
    "\n",
    "- Diogo Nunes Batista\n",
    "- Rafael de Oliveira Évora\n",
    "- Vinicius Gabriel \n",
    "\n",
    "### Carregamento dos dados"
   ]
  },
  {
   "cell_type": "code",
   "execution_count": 18,
   "metadata": {},
   "outputs": [
    {
     "data": {
      "text/plain": [
       "(            ABERTURA  FECHAMENTO  VARIAÇÃO  MÍNIMO  MÁXIMO   VOLUME\n",
       " DATA                                                               \n",
       " 14/11/2024     54.42       55.42     -2.24   54.95   57.10  888,42M\n",
       " 13/11/2024     55.67       56.69      4.73   54.42   57.28  973,17M\n",
       " 12/11/2024     54.34       54.13     -2.73   53.26   56.00  910,50M\n",
       " 11/11/2024     54.34       55.65      3.46   53.92   56.01  495,51M\n",
       " 08/11/2024     50.05       53.79      7.47   49.40   55.28  999,99M\n",
       " ...              ...         ...       ...     ...     ...      ...\n",
       " 23/11/2022     14.20       14.18     -0.77   14.09   14.43   92,72M\n",
       " 22/11/2022     14.40       14.29     -0.49   14.04   14.50   79,35M\n",
       " 21/11/2022     14.34       14.36      1.13   14.08   14.50   83,83M\n",
       " 18/11/2022     13.92       14.20      2.23   13.86   14.63  142,60M\n",
       " 17/11/2022     14.02       13.89     -3.41   13.32   14.22  230,56M\n",
       " \n",
       " [501 rows x 6 columns],\n",
       "                valor\n",
       " data                \n",
       " 03/01/2022  0.034749\n",
       " 04/01/2022  0.034749\n",
       " 05/01/2022  0.034749\n",
       " 06/01/2022  0.034749\n",
       " 07/01/2022  0.034749\n",
       " ...              ...\n",
       " 08/11/2024  0.041957\n",
       " 11/11/2024  0.041957\n",
       " 12/11/2024  0.041957\n",
       " 13/11/2024  0.041957\n",
       " 14/11/2024  0.041957\n",
       " \n",
       " [723 rows x 1 columns])"
      ]
     },
     "execution_count": 18,
     "metadata": {},
     "output_type": "execute_result"
    }
   ],
   "source": [
    "import pandas\n",
    "import numpy as np\n",
    "\n",
    "df_stocks_types = {\n",
    "    'ABERTURA': np.float64,\n",
    "    'FECHAMENTO': np.float64,\n",
    "    'VARIAÇÃO': np.float64,\n",
    "    'MÍNIMO': np.float64,\n",
    "    'MÁXIMO': np.float64,\n",
    "    'VOLUME': str\n",
    "}\n",
    "\n",
    "df_selic_types = {\n",
    "    'valor': np.float64,\n",
    "}\n",
    "\n",
    "STOCK_NAME = 'EMBR3'\n",
    "\n",
    "df_stocks = pandas.read_csv(f'data/raw/{STOCK_NAME}.csv', index_col=\"DATA\" , dtype=df_stocks_types, decimal=',')\n",
    "\n",
    "df_selic = pandas.read_csv('data/raw/selic.csv', sep=';', index_col=\"data\",  dtype=df_selic_types , decimal=',')\n",
    "\n",
    "df_stocks, df_selic"
   ]
  },
  {
   "cell_type": "markdown",
   "metadata": {},
   "source": [
    "### Tratamento dos dados"
   ]
  },
  {
   "cell_type": "code",
   "execution_count": 19,
   "metadata": {},
   "outputs": [
    {
     "data": {
      "text/html": [
       "<div>\n",
       "<style scoped>\n",
       "    .dataframe tbody tr th:only-of-type {\n",
       "        vertical-align: middle;\n",
       "    }\n",
       "\n",
       "    .dataframe tbody tr th {\n",
       "        vertical-align: top;\n",
       "    }\n",
       "\n",
       "    .dataframe thead th {\n",
       "        text-align: right;\n",
       "    }\n",
       "</style>\n",
       "<table border=\"1\" class=\"dataframe\">\n",
       "  <thead>\n",
       "    <tr style=\"text-align: right;\">\n",
       "      <th></th>\n",
       "      <th>ABERTURA</th>\n",
       "      <th>FECHAMENTO</th>\n",
       "      <th>VARIAÇÃO</th>\n",
       "      <th>MÍNIMO</th>\n",
       "      <th>MÁXIMO</th>\n",
       "      <th>VOLUME</th>\n",
       "      <th>SELIC</th>\n",
       "    </tr>\n",
       "  </thead>\n",
       "  <tbody>\n",
       "    <tr>\n",
       "      <th>17/11/2022</th>\n",
       "      <td>14.02</td>\n",
       "      <td>13.89</td>\n",
       "      <td>-3.41</td>\n",
       "      <td>13.32</td>\n",
       "      <td>14.22</td>\n",
       "      <td>230.56</td>\n",
       "      <td>0.050788</td>\n",
       "    </tr>\n",
       "    <tr>\n",
       "      <th>18/11/2022</th>\n",
       "      <td>13.92</td>\n",
       "      <td>14.20</td>\n",
       "      <td>2.23</td>\n",
       "      <td>13.86</td>\n",
       "      <td>14.63</td>\n",
       "      <td>142.60</td>\n",
       "      <td>0.050788</td>\n",
       "    </tr>\n",
       "    <tr>\n",
       "      <th>21/11/2022</th>\n",
       "      <td>14.34</td>\n",
       "      <td>14.36</td>\n",
       "      <td>1.13</td>\n",
       "      <td>14.08</td>\n",
       "      <td>14.50</td>\n",
       "      <td>83.83</td>\n",
       "      <td>0.050788</td>\n",
       "    </tr>\n",
       "    <tr>\n",
       "      <th>22/11/2022</th>\n",
       "      <td>14.40</td>\n",
       "      <td>14.29</td>\n",
       "      <td>-0.49</td>\n",
       "      <td>14.04</td>\n",
       "      <td>14.50</td>\n",
       "      <td>79.35</td>\n",
       "      <td>0.050788</td>\n",
       "    </tr>\n",
       "    <tr>\n",
       "      <th>23/11/2022</th>\n",
       "      <td>14.20</td>\n",
       "      <td>14.18</td>\n",
       "      <td>-0.77</td>\n",
       "      <td>14.09</td>\n",
       "      <td>14.43</td>\n",
       "      <td>92.72</td>\n",
       "      <td>0.050788</td>\n",
       "    </tr>\n",
       "    <tr>\n",
       "      <th>...</th>\n",
       "      <td>...</td>\n",
       "      <td>...</td>\n",
       "      <td>...</td>\n",
       "      <td>...</td>\n",
       "      <td>...</td>\n",
       "      <td>...</td>\n",
       "      <td>...</td>\n",
       "    </tr>\n",
       "    <tr>\n",
       "      <th>08/11/2024</th>\n",
       "      <td>50.05</td>\n",
       "      <td>53.79</td>\n",
       "      <td>7.47</td>\n",
       "      <td>49.40</td>\n",
       "      <td>55.28</td>\n",
       "      <td>999.99</td>\n",
       "      <td>0.041957</td>\n",
       "    </tr>\n",
       "    <tr>\n",
       "      <th>11/11/2024</th>\n",
       "      <td>54.34</td>\n",
       "      <td>55.65</td>\n",
       "      <td>3.46</td>\n",
       "      <td>53.92</td>\n",
       "      <td>56.01</td>\n",
       "      <td>495.51</td>\n",
       "      <td>0.041957</td>\n",
       "    </tr>\n",
       "    <tr>\n",
       "      <th>12/11/2024</th>\n",
       "      <td>54.34</td>\n",
       "      <td>54.13</td>\n",
       "      <td>-2.73</td>\n",
       "      <td>53.26</td>\n",
       "      <td>56.00</td>\n",
       "      <td>910.50</td>\n",
       "      <td>0.041957</td>\n",
       "    </tr>\n",
       "    <tr>\n",
       "      <th>13/11/2024</th>\n",
       "      <td>55.67</td>\n",
       "      <td>56.69</td>\n",
       "      <td>4.73</td>\n",
       "      <td>54.42</td>\n",
       "      <td>57.28</td>\n",
       "      <td>973.17</td>\n",
       "      <td>0.041957</td>\n",
       "    </tr>\n",
       "    <tr>\n",
       "      <th>14/11/2024</th>\n",
       "      <td>54.42</td>\n",
       "      <td>55.42</td>\n",
       "      <td>-2.24</td>\n",
       "      <td>54.95</td>\n",
       "      <td>57.10</td>\n",
       "      <td>888.42</td>\n",
       "      <td>0.041957</td>\n",
       "    </tr>\n",
       "  </tbody>\n",
       "</table>\n",
       "<p>501 rows × 7 columns</p>\n",
       "</div>"
      ],
      "text/plain": [
       "            ABERTURA  FECHAMENTO  VARIAÇÃO  MÍNIMO  MÁXIMO  VOLUME     SELIC\n",
       "17/11/2022     14.02       13.89     -3.41   13.32   14.22  230.56  0.050788\n",
       "18/11/2022     13.92       14.20      2.23   13.86   14.63  142.60  0.050788\n",
       "21/11/2022     14.34       14.36      1.13   14.08   14.50   83.83  0.050788\n",
       "22/11/2022     14.40       14.29     -0.49   14.04   14.50   79.35  0.050788\n",
       "23/11/2022     14.20       14.18     -0.77   14.09   14.43   92.72  0.050788\n",
       "...              ...         ...       ...     ...     ...     ...       ...\n",
       "08/11/2024     50.05       53.79      7.47   49.40   55.28  999.99  0.041957\n",
       "11/11/2024     54.34       55.65      3.46   53.92   56.01  495.51  0.041957\n",
       "12/11/2024     54.34       54.13     -2.73   53.26   56.00  910.50  0.041957\n",
       "13/11/2024     55.67       56.69      4.73   54.42   57.28  973.17  0.041957\n",
       "14/11/2024     54.42       55.42     -2.24   54.95   57.10  888.42  0.041957\n",
       "\n",
       "[501 rows x 7 columns]"
      ]
     },
     "execution_count": 19,
     "metadata": {},
     "output_type": "execute_result"
    }
   ],
   "source": [
    "df_selic.rename(columns={'valor': 'SELIC'}, inplace=True)\n",
    "df_selic['SELIC'] = df_selic['SELIC']\n",
    "\n",
    "df_stocks['VOLUME'] = df_stocks['VOLUME'].str.replace('M', '').str.replace(',', '.').astype(np.float64) # Remove 'M' e subtitui ',' por '.' o que possibilita a conversão para float\n",
    "\n",
    "df = df_stocks.join(df_selic, how='inner') # https://pandas.pydata.org/docs/reference/api/pandas.DataFrame.join.html\n",
    "\n",
    "df = df.iloc[::-1]\n",
    "\n",
    "df"
   ]
  },
  {
   "cell_type": "markdown",
   "metadata": {},
   "source": [
    "### Plotando"
   ]
  },
  {
   "cell_type": "code",
   "execution_count": 20,
   "metadata": {},
   "outputs": [
    {
     "name": "stderr",
     "output_type": "stream",
     "text": [
      "C:\\Users\\Diogo\\AppData\\Local\\Temp\\ipykernel_12500\\2736737018.py:2: UserWarning: FigureCanvasAgg is non-interactive, and thus cannot be shown\n",
      "  ax.get_figure().show()\n"
     ]
    },
    {
     "data": {
      "image/png": "[encoded data removed]",
      "text/plain": [
       "<Figure size 640x480 with 1 Axes>"
      ]
     },
     "metadata": {},
     "output_type": "display_data"
    }
   ],
   "source": [
    "ax = df.plot(y='FECHAMENTO', xlabel='Data', ylabel='Valor', fontsize=8)\n",
    "ax.get_figure().show()"
   ]
  },
  {
   "cell_type": "markdown",
   "metadata": {},
   "source": [
    "### Normalização"
   ]
  },
  {
   "cell_type": "code",
   "execution_count": 21,
   "metadata": {},
   "outputs": [],
   "source": [
    "df[['ABERTURA', 'FECHAMENTO', 'MÍNIMO', 'MÁXIMO']] = df[['ABERTURA', 'FECHAMENTO', 'MÍNIMO', 'MÁXIMO']].div(100.0)\n",
    "df['VOLUME'] = df['VOLUME'].div(1000.0)\n",
    "df['VARIAÇÃO'] = df['VARIAÇÃO'].add(100.0).div(1000.0)\n",
    "\n",
    "df.to_csv(f'data/final/{STOCK_NAME}.csv', index_label='DATA', sep=';', decimal='.')"
   ]
  }
 ],
 "metadata": {
  "kernelspec": {
   "display_name": "Python 3",
   "language": "python",
   "name": "python3"
  },
  "language_info": {
   "codemirror_mode": {
    "name": "ipython",
    "version": 3
   },
   "file_extension": ".py",
   "mimetype": "text/x-python",
   "name": "python",
   "nbconvert_exporter": "python",
   "pygments_lexer": "ipython3",
   "version": "3.12.3"
  }
 },
 "nbformat": 4,
 "nbformat_minor": 2
}
