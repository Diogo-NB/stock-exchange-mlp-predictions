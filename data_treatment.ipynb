{
 "cells": [
  {
   "cell_type": "markdown",
   "metadata": {},
   "source": [
    "# **Tratamento de Dados das Ações**\n",
    "\n",
    "- Diogo Nunes Batista\n",
    "- Rafael de Oliveira Évora\n",
    "- Vinicius Gabriel \n",
    "\n",
    "### Carregamento dos dados"
   ]
  },
  {
   "cell_type": "code",
   "execution_count": 22,
   "metadata": {},
   "outputs": [
    {
     "data": {
      "text/plain": [
       "(            ABERTURA  FECHAMENTO  VARIAÇÃO  MÍNIMO  MÁXIMO   VOLUME\n",
       " DATA                                                               \n",
       " 14/11/2024      1.40        1.35     -4.26    1.35    1.43  105,41M\n",
       " 13/11/2024      1.47        1.41      0.71    1.36    1.42   95,29M\n",
       " 12/11/2024      1.36        1.40     -5.41    1.40    1.49  105,82M\n",
       " 11/11/2024      1.36        1.48      8.82    1.35    1.49   60,08M\n",
       " 08/11/2024      1.53        1.36     -4.23    1.34    1.50  208,62M\n",
       " ...              ...         ...       ...     ...     ...      ...\n",
       " 08/01/2024      3.31        3.37      0.90    3.30    3.42   52,68M\n",
       " 05/01/2024      3.26        3.34      2.77    3.21    3.40   80,45M\n",
       " 04/01/2024      3.36        3.25     -3.56    3.22    3.36   88,91M\n",
       " 03/01/2024      3.35        3.37      0.30    3.29    3.39   63,97M\n",
       " 02/01/2024      3.48        3.36     -3.72    3.36    3.48   82,02M\n",
       " \n",
       " [222 rows x 6 columns],\n",
       "                valor\n",
       " data                \n",
       " 03/01/2022  0.034749\n",
       " 04/01/2022  0.034749\n",
       " 05/01/2022  0.034749\n",
       " 06/01/2022  0.034749\n",
       " 07/01/2022  0.034749\n",
       " ...              ...\n",
       " 08/11/2024  0.041957\n",
       " 11/11/2024  0.041957\n",
       " 12/11/2024  0.041957\n",
       " 13/11/2024  0.041957\n",
       " 14/11/2024  0.041957\n",
       " \n",
       " [723 rows x 1 columns])"
      ]
     },
     "execution_count": 22,
     "metadata": {},
     "output_type": "execute_result"
    }
   ],
   "source": [
    "import pandas\n",
    "import numpy as np\n",
    "\n",
    "df_stocks_types = {\n",
    "    'ABERTURA': np.float64,\n",
    "    'FECHAMENTO': np.float64,\n",
    "    'VARIAÇÃO': np.float64,\n",
    "    'MÍNIMO': np.float64,\n",
    "    'MÁXIMO': np.float64,\n",
    "    'VOLUME': str\n",
    "}\n",
    "\n",
    "df_selic_types = {\n",
    "    'valor': np.float64,\n",
    "}\n",
    "\n",
    "STOCK_NAME = 'COGN3'\n",
    "\n",
    "df_stocks = pandas.read_csv(f'data/raw/{STOCK_NAME}.csv', index_col=\"DATA\" , dtype=df_stocks_types, decimal=',')\n",
    "\n",
    "df_selic = pandas.read_csv('data/raw/selic.csv', sep=';', index_col=\"data\",  dtype=df_selic_types , decimal=',')\n",
    "\n",
    "df_stocks, df_selic"
   ]
  },
  {
   "cell_type": "markdown",
   "metadata": {},
   "source": [
    "### Tratamento dos dados"
   ]
  },
  {
   "cell_type": "code",
   "execution_count": 23,
   "metadata": {},
   "outputs": [
    {
     "data": {
      "text/html": [
       "<div>\n",
       "<style scoped>\n",
       "    .dataframe tbody tr th:only-of-type {\n",
       "        vertical-align: middle;\n",
       "    }\n",
       "\n",
       "    .dataframe tbody tr th {\n",
       "        vertical-align: top;\n",
       "    }\n",
       "\n",
       "    .dataframe thead th {\n",
       "        text-align: right;\n",
       "    }\n",
       "</style>\n",
       "<table border=\"1\" class=\"dataframe\">\n",
       "  <thead>\n",
       "    <tr style=\"text-align: right;\">\n",
       "      <th></th>\n",
       "      <th>ABERTURA</th>\n",
       "      <th>FECHAMENTO</th>\n",
       "      <th>VARIAÇÃO</th>\n",
       "      <th>MÍNIMO</th>\n",
       "      <th>MÁXIMO</th>\n",
       "      <th>VOLUME</th>\n",
       "      <th>SELIC</th>\n",
       "    </tr>\n",
       "  </thead>\n",
       "  <tbody>\n",
       "    <tr>\n",
       "      <th>02/01/2024</th>\n",
       "      <td>3.48</td>\n",
       "      <td>3.36</td>\n",
       "      <td>-3.72</td>\n",
       "      <td>3.36</td>\n",
       "      <td>3.48</td>\n",
       "      <td>82.02</td>\n",
       "      <td>0.043739</td>\n",
       "    </tr>\n",
       "    <tr>\n",
       "      <th>03/01/2024</th>\n",
       "      <td>3.35</td>\n",
       "      <td>3.37</td>\n",
       "      <td>0.30</td>\n",
       "      <td>3.29</td>\n",
       "      <td>3.39</td>\n",
       "      <td>63.97</td>\n",
       "      <td>0.043739</td>\n",
       "    </tr>\n",
       "    <tr>\n",
       "      <th>04/01/2024</th>\n",
       "      <td>3.36</td>\n",
       "      <td>3.25</td>\n",
       "      <td>-3.56</td>\n",
       "      <td>3.22</td>\n",
       "      <td>3.36</td>\n",
       "      <td>88.91</td>\n",
       "      <td>0.043739</td>\n",
       "    </tr>\n",
       "    <tr>\n",
       "      <th>05/01/2024</th>\n",
       "      <td>3.26</td>\n",
       "      <td>3.34</td>\n",
       "      <td>2.77</td>\n",
       "      <td>3.21</td>\n",
       "      <td>3.40</td>\n",
       "      <td>80.45</td>\n",
       "      <td>0.043739</td>\n",
       "    </tr>\n",
       "    <tr>\n",
       "      <th>08/01/2024</th>\n",
       "      <td>3.31</td>\n",
       "      <td>3.37</td>\n",
       "      <td>0.90</td>\n",
       "      <td>3.30</td>\n",
       "      <td>3.42</td>\n",
       "      <td>52.68</td>\n",
       "      <td>0.043739</td>\n",
       "    </tr>\n",
       "    <tr>\n",
       "      <th>...</th>\n",
       "      <td>...</td>\n",
       "      <td>...</td>\n",
       "      <td>...</td>\n",
       "      <td>...</td>\n",
       "      <td>...</td>\n",
       "      <td>...</td>\n",
       "      <td>...</td>\n",
       "    </tr>\n",
       "    <tr>\n",
       "      <th>08/11/2024</th>\n",
       "      <td>1.53</td>\n",
       "      <td>1.36</td>\n",
       "      <td>-4.23</td>\n",
       "      <td>1.34</td>\n",
       "      <td>1.50</td>\n",
       "      <td>208.62</td>\n",
       "      <td>0.041957</td>\n",
       "    </tr>\n",
       "    <tr>\n",
       "      <th>11/11/2024</th>\n",
       "      <td>1.36</td>\n",
       "      <td>1.48</td>\n",
       "      <td>8.82</td>\n",
       "      <td>1.35</td>\n",
       "      <td>1.49</td>\n",
       "      <td>60.08</td>\n",
       "      <td>0.041957</td>\n",
       "    </tr>\n",
       "    <tr>\n",
       "      <th>12/11/2024</th>\n",
       "      <td>1.36</td>\n",
       "      <td>1.40</td>\n",
       "      <td>-5.41</td>\n",
       "      <td>1.40</td>\n",
       "      <td>1.49</td>\n",
       "      <td>105.82</td>\n",
       "      <td>0.041957</td>\n",
       "    </tr>\n",
       "    <tr>\n",
       "      <th>13/11/2024</th>\n",
       "      <td>1.47</td>\n",
       "      <td>1.41</td>\n",
       "      <td>0.71</td>\n",
       "      <td>1.36</td>\n",
       "      <td>1.42</td>\n",
       "      <td>95.29</td>\n",
       "      <td>0.041957</td>\n",
       "    </tr>\n",
       "    <tr>\n",
       "      <th>14/11/2024</th>\n",
       "      <td>1.40</td>\n",
       "      <td>1.35</td>\n",
       "      <td>-4.26</td>\n",
       "      <td>1.35</td>\n",
       "      <td>1.43</td>\n",
       "      <td>105.41</td>\n",
       "      <td>0.041957</td>\n",
       "    </tr>\n",
       "  </tbody>\n",
       "</table>\n",
       "<p>222 rows × 7 columns</p>\n",
       "</div>"
      ],
      "text/plain": [
       "            ABERTURA  FECHAMENTO  VARIAÇÃO  MÍNIMO  MÁXIMO  VOLUME     SELIC\n",
       "02/01/2024      3.48        3.36     -3.72    3.36    3.48   82.02  0.043739\n",
       "03/01/2024      3.35        3.37      0.30    3.29    3.39   63.97  0.043739\n",
       "04/01/2024      3.36        3.25     -3.56    3.22    3.36   88.91  0.043739\n",
       "05/01/2024      3.26        3.34      2.77    3.21    3.40   80.45  0.043739\n",
       "08/01/2024      3.31        3.37      0.90    3.30    3.42   52.68  0.043739\n",
       "...              ...         ...       ...     ...     ...     ...       ...\n",
       "08/11/2024      1.53        1.36     -4.23    1.34    1.50  208.62  0.041957\n",
       "11/11/2024      1.36        1.48      8.82    1.35    1.49   60.08  0.041957\n",
       "12/11/2024      1.36        1.40     -5.41    1.40    1.49  105.82  0.041957\n",
       "13/11/2024      1.47        1.41      0.71    1.36    1.42   95.29  0.041957\n",
       "14/11/2024      1.40        1.35     -4.26    1.35    1.43  105.41  0.041957\n",
       "\n",
       "[222 rows x 7 columns]"
      ]
     },
     "execution_count": 23,
     "metadata": {},
     "output_type": "execute_result"
    }
   ],
   "source": [
    "df_selic.rename(columns={'valor': 'SELIC'}, inplace=True)\n",
    "df_selic['SELIC'] = df_selic['SELIC']\n",
    "\n",
    "df_stocks['VOLUME'] = df_stocks['VOLUME'].str.replace('M', '').str.replace(',', '.').astype(np.float64) # Remove 'M' e subtitui ',' por '.' o que possibilita a conversão para float\n",
    "\n",
    "df = df_stocks.join(df_selic, how='inner') # https://pandas.pydata.org/docs/reference/api/pandas.DataFrame.join.html\n",
    "\n",
    "df = df.iloc[::-1]\n",
    "\n",
    "df"
   ]
  },
  {
   "cell_type": "markdown",
   "metadata": {},
   "source": [
    "### Plotando"
   ]
  },
  {
   "cell_type": "code",
   "execution_count": 24,
   "metadata": {},
   "outputs": [
    {
     "name": "stderr",
     "output_type": "stream",
     "text": [
      "C:\\Users\\vinic\\AppData\\Local\\Temp\\ipykernel_17396\\2736737018.py:2: UserWarning: FigureCanvasAgg is non-interactive, and thus cannot be shown\n",
      "  ax.get_figure().show()\n"
     ]
    },
    {
     "data": {
      "image/png": "[encoded data removed]",
      "text/plain": [
       "<Figure size 640x480 with 1 Axes>"
      ]
     },
     "metadata": {},
     "output_type": "display_data"
    }
   ],
   "source": [
    "ax = df.plot(y='FECHAMENTO', xlabel='Data', ylabel='Valor', fontsize=8)\n",
    "ax.get_figure().show()"
   ]
  },
  {
   "cell_type": "markdown",
   "metadata": {},
   "source": [
    "### Normalização"
   ]
  },
  {
   "cell_type": "code",
   "execution_count": 25,
   "metadata": {},
   "outputs": [],
   "source": [
    "df[['ABERTURA', 'FECHAMENTO', 'MÍNIMO', 'MÁXIMO']] = df[['ABERTURA', 'FECHAMENTO', 'MÍNIMO', 'MÁXIMO']].div(100.0)\n",
    "df['VOLUME'] = df['VOLUME'].div(1000.0)\n",
    "df['VARIAÇÃO'] = df['VARIAÇÃO'].add(100.0).div(1000.0)\n",
    "\n",
    "df.to_csv(f'data/final/{STOCK_NAME}.csv', index_label='DATA', sep=';', decimal='.')"
   ]
  }
 ],
 "metadata": {
  "kernelspec": {
   "display_name": "Python 3",
   "language": "python",
   "name": "python3"
  },
  "language_info": {
   "codemirror_mode": {
    "name": "ipython",
    "version": 3
   },
   "file_extension": ".py",
   "mimetype": "text/x-python",
   "name": "python",
   "nbconvert_exporter": "python",
   "pygments_lexer": "ipython3",
   "version": "3.13.0"
  }
 },
 "nbformat": 4,
 "nbformat_minor": 2
}
