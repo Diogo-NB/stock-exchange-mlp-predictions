{
 "cells": [
  {
   "cell_type": "markdown",
   "metadata": {},
   "source": [
    "# **Previsão básica de ações utilizando Multi Layer Perceptron**\n",
    "\n",
    "- Diogo Nunes Batista\n",
    "- Rafael de Oliveira Évora\n",
    "- Vinicius Gabriel \n",
    "\n",
    "### Carregamento dos dados"
   ]
  },
  {
   "cell_type": "code",
   "execution_count": 72,
   "metadata": {},
   "outputs": [
    {
     "data": {
      "text/html": [
       "<div>\n",
       "<style scoped>\n",
       "    .dataframe tbody tr th:only-of-type {\n",
       "        vertical-align: middle;\n",
       "    }\n",
       "\n",
       "    .dataframe tbody tr th {\n",
       "        vertical-align: top;\n",
       "    }\n",
       "\n",
       "    .dataframe thead th {\n",
       "        text-align: right;\n",
       "    }\n",
       "</style>\n",
       "<table border=\"1\" class=\"dataframe\">\n",
       "  <thead>\n",
       "    <tr style=\"text-align: right;\">\n",
       "      <th></th>\n",
       "      <th>ABERTURA</th>\n",
       "      <th>FECHAMENTO</th>\n",
       "      <th>VARIAÇÃO</th>\n",
       "      <th>MÍNIMO</th>\n",
       "      <th>MÁXIMO</th>\n",
       "      <th>VOLUME</th>\n",
       "      <th>SELIC</th>\n",
       "    </tr>\n",
       "    <tr>\n",
       "      <th>DATA</th>\n",
       "      <th></th>\n",
       "      <th></th>\n",
       "      <th></th>\n",
       "      <th></th>\n",
       "      <th></th>\n",
       "      <th></th>\n",
       "      <th></th>\n",
       "    </tr>\n",
       "  </thead>\n",
       "  <tbody>\n",
       "    <tr>\n",
       "      <th>17/11/2022</th>\n",
       "      <td>0.1402</td>\n",
       "      <td>0.1389</td>\n",
       "      <td>0.09659</td>\n",
       "      <td>0.1332</td>\n",
       "      <td>0.1422</td>\n",
       "      <td>0.23056</td>\n",
       "      <td>0.050788</td>\n",
       "    </tr>\n",
       "    <tr>\n",
       "      <th>18/11/2022</th>\n",
       "      <td>0.1392</td>\n",
       "      <td>0.1420</td>\n",
       "      <td>0.10223</td>\n",
       "      <td>0.1386</td>\n",
       "      <td>0.1463</td>\n",
       "      <td>0.14260</td>\n",
       "      <td>0.050788</td>\n",
       "    </tr>\n",
       "    <tr>\n",
       "      <th>21/11/2022</th>\n",
       "      <td>0.1434</td>\n",
       "      <td>0.1436</td>\n",
       "      <td>0.10113</td>\n",
       "      <td>0.1408</td>\n",
       "      <td>0.1450</td>\n",
       "      <td>0.08383</td>\n",
       "      <td>0.050788</td>\n",
       "    </tr>\n",
       "    <tr>\n",
       "      <th>22/11/2022</th>\n",
       "      <td>0.1440</td>\n",
       "      <td>0.1429</td>\n",
       "      <td>0.09951</td>\n",
       "      <td>0.1404</td>\n",
       "      <td>0.1450</td>\n",
       "      <td>0.07935</td>\n",
       "      <td>0.050788</td>\n",
       "    </tr>\n",
       "    <tr>\n",
       "      <th>23/11/2022</th>\n",
       "      <td>0.1420</td>\n",
       "      <td>0.1418</td>\n",
       "      <td>0.09923</td>\n",
       "      <td>0.1409</td>\n",
       "      <td>0.1443</td>\n",
       "      <td>0.09272</td>\n",
       "      <td>0.050788</td>\n",
       "    </tr>\n",
       "    <tr>\n",
       "      <th>...</th>\n",
       "      <td>...</td>\n",
       "      <td>...</td>\n",
       "      <td>...</td>\n",
       "      <td>...</td>\n",
       "      <td>...</td>\n",
       "      <td>...</td>\n",
       "      <td>...</td>\n",
       "    </tr>\n",
       "    <tr>\n",
       "      <th>08/11/2024</th>\n",
       "      <td>0.5005</td>\n",
       "      <td>0.5379</td>\n",
       "      <td>0.10747</td>\n",
       "      <td>0.4940</td>\n",
       "      <td>0.5528</td>\n",
       "      <td>0.99999</td>\n",
       "      <td>0.041957</td>\n",
       "    </tr>\n",
       "    <tr>\n",
       "      <th>11/11/2024</th>\n",
       "      <td>0.5434</td>\n",
       "      <td>0.5565</td>\n",
       "      <td>0.10346</td>\n",
       "      <td>0.5392</td>\n",
       "      <td>0.5601</td>\n",
       "      <td>0.49551</td>\n",
       "      <td>0.041957</td>\n",
       "    </tr>\n",
       "    <tr>\n",
       "      <th>12/11/2024</th>\n",
       "      <td>0.5434</td>\n",
       "      <td>0.5413</td>\n",
       "      <td>0.09727</td>\n",
       "      <td>0.5326</td>\n",
       "      <td>0.5600</td>\n",
       "      <td>0.91050</td>\n",
       "      <td>0.041957</td>\n",
       "    </tr>\n",
       "    <tr>\n",
       "      <th>13/11/2024</th>\n",
       "      <td>0.5567</td>\n",
       "      <td>0.5669</td>\n",
       "      <td>0.10473</td>\n",
       "      <td>0.5442</td>\n",
       "      <td>0.5728</td>\n",
       "      <td>0.97317</td>\n",
       "      <td>0.041957</td>\n",
       "    </tr>\n",
       "    <tr>\n",
       "      <th>14/11/2024</th>\n",
       "      <td>0.5442</td>\n",
       "      <td>0.5542</td>\n",
       "      <td>0.09776</td>\n",
       "      <td>0.5495</td>\n",
       "      <td>0.5710</td>\n",
       "      <td>0.88842</td>\n",
       "      <td>0.041957</td>\n",
       "    </tr>\n",
       "  </tbody>\n",
       "</table>\n",
       "<p>501 rows × 7 columns</p>\n",
       "</div>"
      ],
      "text/plain": [
       "            ABERTURA  FECHAMENTO  VARIAÇÃO  MÍNIMO  MÁXIMO   VOLUME     SELIC\n",
       "DATA                                                                         \n",
       "17/11/2022    0.1402      0.1389   0.09659  0.1332  0.1422  0.23056  0.050788\n",
       "18/11/2022    0.1392      0.1420   0.10223  0.1386  0.1463  0.14260  0.050788\n",
       "21/11/2022    0.1434      0.1436   0.10113  0.1408  0.1450  0.08383  0.050788\n",
       "22/11/2022    0.1440      0.1429   0.09951  0.1404  0.1450  0.07935  0.050788\n",
       "23/11/2022    0.1420      0.1418   0.09923  0.1409  0.1443  0.09272  0.050788\n",
       "...              ...         ...       ...     ...     ...      ...       ...\n",
       "08/11/2024    0.5005      0.5379   0.10747  0.4940  0.5528  0.99999  0.041957\n",
       "11/11/2024    0.5434      0.5565   0.10346  0.5392  0.5601  0.49551  0.041957\n",
       "12/11/2024    0.5434      0.5413   0.09727  0.5326  0.5600  0.91050  0.041957\n",
       "13/11/2024    0.5567      0.5669   0.10473  0.5442  0.5728  0.97317  0.041957\n",
       "14/11/2024    0.5442      0.5542   0.09776  0.5495  0.5710  0.88842  0.041957\n",
       "\n",
       "[501 rows x 7 columns]"
      ]
     },
     "execution_count": 72,
     "metadata": {},
     "output_type": "execute_result"
    }
   ],
   "source": [
    "import pandas \n",
    "import numpy as np\n",
    "\n",
    "STOCK_NAME = 'EMBR3'\n",
    "\n",
    "N_DAYS = 7\n",
    "\n",
    "df = pandas.read_csv(f'data/final/{STOCK_NAME}.csv', index_col='DATA', sep=';', decimal='.')\n",
    "df"
   ]
  },
  {
   "cell_type": "markdown",
   "metadata": {},
   "source": [
    "### Separação input e target"
   ]
  },
  {
   "cell_type": "code",
   "execution_count": 73,
   "metadata": {},
   "outputs": [
    {
     "data": {
      "text/plain": [
       "((480, 49), (480, 7), (49,), (7,))"
      ]
     },
     "execution_count": 73,
     "metadata": {},
     "output_type": "execute_result"
    }
   ],
   "source": [
    "# input = [(df[i:i+7].values, np.array([df.iat[i+7, 0]])) for i in range(0, df.index.size - 7)]\n",
    "input = np.array([df.iloc[i:i+7].to_numpy().flatten() for i in range(0, df.index.size - 2 * N_DAYS)])\n",
    "target = np.array([df.iloc[i:i+7]['ABERTURA'].to_numpy().flatten() for i in range(7, df.index.size - N_DAYS)])\n",
    "\n",
    "N_TEST = 7\n",
    "\n",
    "x_train = input[:-N_TEST]\n",
    "t_train = target[:-N_TEST]\n",
    "\n",
    "x_test = input[-N_TEST]\n",
    "t_test = target[-N_TEST]\n",
    "\n",
    "x_train.shape, t_train.shape, x_test.shape, t_test.shape"
   ]
  },
  {
   "cell_type": "markdown",
   "metadata": {},
   "source": [
    "### Treinamento"
   ]
  },
  {
   "cell_type": "code",
   "execution_count": null,
   "metadata": {},
   "outputs": [
    {
     "name": "stdout",
     "output_type": "stream",
     "text": [
      "Error: 2.351960768738947 - epochs: 1000\n"
     ]
    },
    {
     "data": {
      "image/png": "[encoded data removed]",
      "text/plain": [
       "<Figure size 640x480 with 1 Axes>"
      ]
     },
     "metadata": {},
     "output_type": "display_data"
    }
   ],
   "source": [
    "from mlp_model import MLP\n",
    "\n",
    "mlp = MLP(layers_sizes=[x_train.shape[1], 150, 125, 75, 50, 25, 5, t_train.shape[1]])\n",
    "error, epochs = mlp.train(x_train, t_train, learning_rate=0.01, max_epochs=5000, tolerated_error=0.0001)\n",
    "print(f'Error: {error} - epochs: {epochs}')\n",
    "\n",
    "y_test = mlp.predict(x_test)\n",
    "df_test = df.iloc[-N_TEST:].copy()\n",
    "df_test['PREVISTO'] = y_test\n",
    "\n",
    "df_test.plot(y=['ABERTURA', 'PREVISTO'], xlabel='Data', ylabel='Valor de Abertura', fontsize=8).get_figure().savefig(f'results/{STOCK_NAME}_1.png')\n",
    "\n",
    "# y = mlp.predict(x_train)\n",
    "\n",
    "# df_predict = df.iloc[N_DAYS:-N_TEST].copy()\n",
    "# df_predict['PREVISTO'] = y\n",
    "\n",
    "# df_predict.plot(y=['ABERTURA', 'PREVISTO'], xlabel='Data', ylabel='Valor de fechamento', fontsize=8).get_figure().savefig(f'results/{STOCK_NAME}_2.png')"
   ]
  }
 ],
 "metadata": {
  "kernelspec": {
   "display_name": "Python 3",
   "language": "python",
   "name": "python3"
  },
  "language_info": {
   "codemirror_mode": {
    "name": "ipython",
    "version": 3
   },
   "file_extension": ".py",
   "mimetype": "text/x-python",
   "name": "python",
   "nbconvert_exporter": "python",
   "pygments_lexer": "ipython3",
   "version": "3.12.5"
  }
 },
 "nbformat": 4,
 "nbformat_minor": 2
}
